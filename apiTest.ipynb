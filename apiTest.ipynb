{
  "nbformat": 4,
  "nbformat_minor": 0,
  "metadata": {
    "colab": {
      "provenance": [],
      "authorship_tag": "ABX9TyOILG5C8G/dOoIdb1OXTDtm",
      "include_colab_link": true
    },
    "kernelspec": {
      "name": "python3",
      "display_name": "Python 3"
    },
    "language_info": {
      "name": "python"
    }
  },
  "cells": [
    {
      "cell_type": "markdown",
      "metadata": {
        "id": "view-in-github",
        "colab_type": "text"
      },
      "source": [
        "<a href=\"https://colab.research.google.com/github/sarajay19/api/blob/main/apiTest.ipynb\" target=\"_parent\"><img src=\"https://colab.research.google.com/assets/colab-badge.svg\" alt=\"Open In Colab\"/></a>"
      ]
    },
    {
      "cell_type": "code",
      "execution_count": 14,
      "metadata": {
        "colab": {
          "base_uri": "https://localhost:8080/"
        },
        "id": "hF3xED32lljB",
        "outputId": "b752ee07-33a3-40e2-ce8f-ab0c368a60da"
      },
      "outputs": [
        {
          "output_type": "stream",
          "name": "stdout",
          "text": [
            "Requirement already satisfied: flask in /usr/local/lib/python3.11/dist-packages (3.1.0)\n",
            "Requirement already satisfied: pandas in /usr/local/lib/python3.11/dist-packages (2.2.2)\n",
            "Requirement already satisfied: openpyxl in /usr/local/lib/python3.11/dist-packages (3.1.5)\n",
            "Requirement already satisfied: Werkzeug>=3.1 in /usr/local/lib/python3.11/dist-packages (from flask) (3.1.3)\n",
            "Requirement already satisfied: Jinja2>=3.1.2 in /usr/local/lib/python3.11/dist-packages (from flask) (3.1.6)\n",
            "Requirement already satisfied: itsdangerous>=2.2 in /usr/local/lib/python3.11/dist-packages (from flask) (2.2.0)\n",
            "Requirement already satisfied: click>=8.1.3 in /usr/local/lib/python3.11/dist-packages (from flask) (8.1.8)\n",
            "Requirement already satisfied: blinker>=1.9 in /usr/local/lib/python3.11/dist-packages (from flask) (1.9.0)\n",
            "Requirement already satisfied: numpy>=1.23.2 in /usr/local/lib/python3.11/dist-packages (from pandas) (2.0.2)\n",
            "Requirement already satisfied: python-dateutil>=2.8.2 in /usr/local/lib/python3.11/dist-packages (from pandas) (2.8.2)\n",
            "Requirement already satisfied: pytz>=2020.1 in /usr/local/lib/python3.11/dist-packages (from pandas) (2025.2)\n",
            "Requirement already satisfied: tzdata>=2022.7 in /usr/local/lib/python3.11/dist-packages (from pandas) (2025.2)\n",
            "Requirement already satisfied: et-xmlfile in /usr/local/lib/python3.11/dist-packages (from openpyxl) (2.0.0)\n",
            "Requirement already satisfied: MarkupSafe>=2.0 in /usr/local/lib/python3.11/dist-packages (from Jinja2>=3.1.2->flask) (3.0.2)\n",
            "Requirement already satisfied: six>=1.5 in /usr/local/lib/python3.11/dist-packages (from python-dateutil>=2.8.2->pandas) (1.17.0)\n"
          ]
        }
      ],
      "source": [
        "!pip install flask pandas openpyxl"
      ]
    },
    {
      "cell_type": "code",
      "source": [
        "from flask import Flask, jsonify\n",
        "import pandas as pd\n",
        "from threading import Thread"
      ],
      "metadata": {
        "id": "1jwmGJTLl2JN"
      },
      "execution_count": 15,
      "outputs": []
    },
    {
      "cell_type": "code",
      "source": [
        "app = Flask(__name__)"
      ],
      "metadata": {
        "id": "aa3qCeLjmn7b"
      },
      "execution_count": 16,
      "outputs": []
    },
    {
      "cell_type": "code",
      "source": [
        "@app.route('/api/data')\n",
        "def get_excel_data():\n",
        "  df = pd.read_excel('/content/EidEvents2024.xlsx')\n",
        "  return jsonify(df.to_dict(orient='records'))\n",
        "\n",
        "def run():\n",
        "  app.run(debug=True, use_reloader=False)\n",
        "\n",
        "t = Thread(target=run)\n",
        "t.start()"
      ],
      "metadata": {
        "id": "ukPpMKJ8l-BY",
        "colab": {
          "base_uri": "https://localhost:8080/"
        },
        "outputId": "a0a5eb2d-6a5b-4d38-f2fc-0791c8fa45d6"
      },
      "execution_count": 17,
      "outputs": [
        {
          "output_type": "stream",
          "name": "stdout",
          "text": [
            " * Serving Flask app '__main__'\n"
          ]
        }
      ]
    },
    {
      "cell_type": "code",
      "source": [
        "import requests\n",
        " # host(my device): 127.0.0.1\n",
        " # port: 500\n",
        "response = requests.get('http://127.0.0.1:5000/api/data')\n",
        "response.json()"
      ],
      "metadata": {
        "colab": {
          "base_uri": "https://localhost:8080/"
        },
        "id": "kxBGRtxqvSO8",
        "outputId": "3332e71e-35b5-4eef-f5a2-2af9b86a20b3"
      },
      "execution_count": 18,
      "outputs": [
        {
          "output_type": "stream",
          "name": "stderr",
          "text": [
            "INFO:werkzeug:127.0.0.1 - - [23/Apr/2025 08:21:52] \"GET /api/data HTTP/1.1\" 200 -\n"
          ]
        },
        {
          "output_type": "execute_result",
          "data": {
            "text/plain": [
              "[{'Unnamed: 1': 'تاريخ النهاية ',\n",
              "  'Unnamed: 2': 'الفعالية',\n",
              "  'Unnamed: 3': 'المدينة',\n",
              "  'Unnamed: 4': 'الحضور',\n",
              "  'فعاليات العيد 2024 م ': 'التاريخ'},\n",
              " {'Unnamed: 1': 'Mon, 04 Nov 2024 00:00:00 GMT',\n",
              "  'Unnamed: 2': 'حفلة موضي الشمراني ودحوم الطلاسي',\n",
              "  'Unnamed: 3': 'الدمام',\n",
              "  'Unnamed: 4': 1208,\n",
              "  'فعاليات العيد 2024 م ': 'Mon, 04 Nov 2024 00:00:00 GMT'},\n",
              " {'Unnamed: 1': 'Wed, 04 Dec 2024 00:00:00 GMT',\n",
              "  'Unnamed: 2': 'حفلة خالد عبد الرحمن ونواف الجبرتي',\n",
              "  'Unnamed: 3': 'شقراء',\n",
              "  'Unnamed: 4': 1391,\n",
              "  'فعاليات العيد 2024 م ': 'Wed, 04 Dec 2024 00:00:00 GMT'},\n",
              " {'Unnamed: 1': 'Wed, 04 Dec 2024 00:00:00 GMT',\n",
              "  'Unnamed: 2': 'حفلة رابح صقر',\n",
              "  'Unnamed: 3': 'الدمام',\n",
              "  'Unnamed: 4': 3350,\n",
              "  'فعاليات العيد 2024 م ': 'Wed, 04 Dec 2024 00:00:00 GMT'},\n",
              " {'Unnamed: 1': 'Wed, 04 Dec 2024 00:00:00 GMT',\n",
              "  'Unnamed: 2': 'حفلة عبادي الجوهر وزينه عماد وعبدالله المستريح',\n",
              "  'Unnamed: 3': 'الرياض',\n",
              "  'Unnamed: 4': 1270,\n",
              "  'فعاليات العيد 2024 م ': 'Wed, 04 Dec 2024 00:00:00 GMT'},\n",
              " {'Unnamed: 1': 'Mon, 04 Nov 2024 00:00:00 GMT',\n",
              "  'Unnamed: 2': 'حفلة ماجد المهندس ',\n",
              "  'Unnamed: 3': 'جدة',\n",
              "  'Unnamed: 4': 2136,\n",
              "  'فعاليات العيد 2024 م ': 'Mon, 04 Nov 2024 00:00:00 GMT'},\n",
              " {'Unnamed: 1': '13/4/2024',\n",
              "  'Unnamed: 2': 'حفلة مي فاروق ونواف الجبرتي',\n",
              "  'Unnamed: 3': 'ينبع',\n",
              "  'Unnamed: 4': 901,\n",
              "  'فعاليات العيد 2024 م ': '13/4/2024'},\n",
              " {'Unnamed: 1': '14/4/2024',\n",
              "  'Unnamed: 2': 'حفلة تامر عاشور',\n",
              "  'Unnamed: 3': 'جدة',\n",
              "  'Unnamed: 4': 2277,\n",
              "  'فعاليات العيد 2024 م ': '14/4/2024'},\n",
              " {'Unnamed: 1': '13/4/2024',\n",
              "  'Unnamed: 2': 'حفلة فرقة ميامي ',\n",
              "  'Unnamed: 3': 'القصيم',\n",
              "  'Unnamed: 4': 649,\n",
              "  'فعاليات العيد 2024 م ': '13/4/2024'},\n",
              " {'Unnamed: 1': '17/04/2024',\n",
              "  'Unnamed: 2': 'مسرحية ليلي علوي(الصندوق الأحمر ) ',\n",
              "  'Unnamed: 3': 'جدة',\n",
              "  'Unnamed: 4': 974,\n",
              "  'فعاليات العيد 2024 م ': '13/04/2024'},\n",
              " {'Unnamed: 1': '18/04/2024',\n",
              "  'Unnamed: 2': 'مسرحية عرس الجن',\n",
              "  'Unnamed: 3': 'الدمام',\n",
              "  'Unnamed: 4': 1608,\n",
              "  'فعاليات العيد 2024 م ': '14/04/2024'},\n",
              " {'Unnamed: 1': '18/04/2024',\n",
              "  'Unnamed: 2': 'مسرحية الجار',\n",
              "  'Unnamed: 3': 'الرياض',\n",
              "  'Unnamed: 4': 1226,\n",
              "  'فعاليات العيد 2024 م ': '14/04/2024'}]"
            ]
          },
          "metadata": {},
          "execution_count": 18
        }
      ]
    }
  ]
}